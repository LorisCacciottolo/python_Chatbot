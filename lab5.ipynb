{
 "cells": [
  {
   "cell_type": "code",
   "execution_count": 3,
   "metadata": {},
   "outputs": [
    {
     "name": "stdout",
     "output_type": "stream",
     "text": [
      "25\n"
     ]
    }
   ],
   "source": [
    "def square(x):\n",
    "    y = x**2\n",
    "    return y\n",
    "\n",
    "# Main program testing the square function\n",
    "if __name__ == '__main__':\n",
    "    print(square(5)) # 25"
   ]
  },
  {
   "cell_type": "code",
   "execution_count": 11,
   "metadata": {},
   "outputs": [
    {
     "ename": "KeyboardInterrupt",
     "evalue": "",
     "output_type": "error",
     "traceback": [
      "\u001b[0;31m---------------------------------------------------------------------------\u001b[0m",
      "\u001b[0;31mKeyboardInterrupt\u001b[0m                         Traceback (most recent call last)",
      "Cell \u001b[0;32mIn[11], line 9\u001b[0m\n\u001b[1;32m      7\u001b[0m \u001b[39mif\u001b[39;00m \u001b[39m__name__\u001b[39m \u001b[39m==\u001b[39m \u001b[39m'\u001b[39m\u001b[39m__main__\u001b[39m\u001b[39m'\u001b[39m:\n\u001b[1;32m      8\u001b[0m     L \u001b[39m=\u001b[39m [\u001b[39m1\u001b[39m, \u001b[39m2\u001b[39m, \u001b[39m3\u001b[39m]\n\u001b[0;32m----> 9\u001b[0m     L \u001b[39m=\u001b[39m add_list(L,L)\n\u001b[1;32m     10\u001b[0m     \u001b[39mprint\u001b[39m(L)\n",
      "Cell \u001b[0;32mIn[11], line 3\u001b[0m, in \u001b[0;36madd_list\u001b[0;34m(l, val)\u001b[0m\n\u001b[1;32m      1\u001b[0m \u001b[39mdef\u001b[39;00m \u001b[39madd_list\u001b[39m(l, val):\n\u001b[1;32m      2\u001b[0m     \u001b[39mfor\u001b[39;00m i \u001b[39min\u001b[39;00m val:\n\u001b[0;32m----> 3\u001b[0m         l\u001b[39m.\u001b[39;49mappend(i)\n\u001b[1;32m      4\u001b[0m     \u001b[39mreturn\u001b[39;00m l\n",
      "\u001b[0;31mKeyboardInterrupt\u001b[0m: "
     ]
    }
   ],
   "source": [
    "def add_list(l, val):\n",
    "    l.append(val)\n",
    "    return l\n",
    "\n",
    "# Main program testing the add_list function\n",
    "if __name__ == '__main__':\n",
    "    L = [1, 2, 3]\n",
    "    L = add_list(L,L)\n",
    "    print(L)"
   ]
  },
  {
   "cell_type": "code",
   "execution_count": 21,
   "metadata": {},
   "outputs": [
    {
     "name": "stdout",
     "output_type": "stream",
     "text": [
      "3\n",
      "4\n",
      "5\n",
      "6\n",
      "7\n",
      "8\n",
      "9\n",
      "10\n"
     ]
    }
   ],
   "source": [
    "def display_val(inf, sup):\n",
    "    for i in range(inf, sup+1):\n",
    "        print(i)\n",
    "\n",
    "# Main program testing the display_val function\n",
    "if __name__ == '__main__':\n",
    "    display_val(3, 10) "
   ]
  },
  {
   "cell_type": "code",
   "execution_count": null,
   "metadata": {},
   "outputs": [],
   "source": [
    "def fonction():\n",
    "    deb = int(input(\"Enter integer: \"))\n",
    "    fin = int(input(\"Enter integer: \"))\n",
    "    while fin < deb :\n",
    "        fin = int(input(\"Enter integer: \"))\n",
    "\n",
    "    step = int(input(\"Enter an integer: \"))\n",
    "    i = deb\n",
    "    while i < deb:\n",
    "        print(i)\n",
    "        i = i + step \n",
    "if __name__ == '__main__':\n",
    "    fonction() "
   ]
  },
  {
   "cell_type": "code",
   "execution_count": 27,
   "metadata": {},
   "outputs": [
    {
     "name": "stdout",
     "output_type": "stream",
     "text": [
      "1\n",
      "2\n",
      "3\n"
     ]
    }
   ],
   "source": [
    "def fonction(val1, val2, val3):\n",
    "    print(val1)\n",
    "    print(val2)\n",
    "    print(val3)\n",
    "\n",
    "if __name__ == '__main__':\n",
    "    val1 = int(input(\"val1\"))\n",
    "    val2 = int(input(\"val2\"))\n",
    "    val3 = int(input(\"val3\"))\n",
    "    fonction(val1, val2, val3)"
   ]
  },
  {
   "cell_type": "code",
   "execution_count": 30,
   "metadata": {},
   "outputs": [
    {
     "name": "stdout",
     "output_type": "stream",
     "text": [
      "True\n"
     ]
    }
   ],
   "source": [
    "def fonction(val1):\n",
    "    for i in range(2,int(val1**0.5)+1):\n",
    "        if val1%i==0:\n",
    "            return False\n",
    "    return True\n",
    "\n",
    "if __name__ == '__main__':\n",
    "    val1 = int(input(\"is prime ? \"))\n",
    "    print(fonction(val1))"
   ]
  },
  {
   "cell_type": "code",
   "execution_count": 31,
   "metadata": {},
   "outputs": [
    {
     "name": "stdout",
     "output_type": "stream",
     "text": [
      "18\n"
     ]
    }
   ],
   "source": [
    "def fonction(list):\n",
    "    summ = 0\n",
    "    for i in list:\n",
    "        summ += i\n",
    "    return summ\n",
    "\n",
    "if __name__ == '__main__':\n",
    "    val1 = [1, 5, 12]\n",
    "    print(fonction(val1))"
   ]
  },
  {
   "cell_type": "code",
   "execution_count": 36,
   "metadata": {},
   "outputs": [
    {
     "name": "stdout",
     "output_type": "stream",
     "text": [
      "-1\n"
     ]
    }
   ],
   "source": [
    "def fonction(list, val1):\n",
    "    lenn = 0\n",
    "    try:\n",
    "        lenn = list.index(val1)\n",
    "        return lenn\n",
    "    except:\n",
    "        return -1\n",
    "\n",
    "if __name__ == '__main__':\n",
    "    list = [1, 5, 12]\n",
    "    val1 = int(input(\"is prime ? \"))\n",
    "    print(fonction(list, val1))"
   ]
  },
  {
   "cell_type": "code",
   "execution_count": 40,
   "metadata": {},
   "outputs": [
    {
     "name": "stdout",
     "output_type": "stream",
     "text": [
      "[1, 2, 3, 4, 5]\n"
     ]
    }
   ],
   "source": [
    "def fonction(list):\n",
    "    newList = []\n",
    "    for i in list:\n",
    "        if i not in newList:\n",
    "            newList.append(i)\n",
    "    return newList\n",
    "\n",
    "if __name__ == '__main__':\n",
    "    list = [1,2,3,3,3,3,4,5]\n",
    "    print(fonction(list))"
   ]
  },
  {
   "cell_type": "code",
   "execution_count": 45,
   "metadata": {},
   "outputs": [
    {
     "name": "stdout",
     "output_type": "stream",
     "text": [
      "zacaa\n"
     ]
    }
   ],
   "source": [
    "string = \"aacaz\"\n",
    "print(string[::-1])"
   ]
  },
  {
   "cell_type": "code",
   "execution_count": 47,
   "metadata": {},
   "outputs": [
    {
     "name": "stdout",
     "output_type": "stream",
     "text": [
      "3\n"
     ]
    }
   ],
   "source": [
    "def fonction(list):\n",
    "    vowels = \"aeiouy\"\n",
    "    summ=0\n",
    "    for i in list:\n",
    "        if i in vowels:\n",
    "            summ+=1\n",
    "    return summ\n",
    "\n",
    "if __name__ == '__main__':\n",
    "    list = \"vreeudjgbj\"\n",
    "    print(fonction(list))"
   ]
  },
  {
   "cell_type": "code",
   "execution_count": 50,
   "metadata": {},
   "outputs": [
    {
     "name": "stdout",
     "output_type": "stream",
     "text": [
      "[[0, 8, 16, 24, 2, 0], [1, 4, 5, 3, 9, 8], [2, 0, 2, 4, 12, 18], [1, 1, 5, 5, 3, 8], [0, 0, 6, 4, 2, 16]]\n"
     ]
    }
   ],
   "source": [
    "matrix =  [[0, 4, 8, 12, 1, 0],\n",
    "            [1, 4, 5, 3, 9, 8],\n",
    "            [1, 0, 1, 2, 6, 9],\n",
    "            [1, 1, 5, 5, 3, 8],\n",
    "            [0, 0, 3, 2, 1, 8]\n",
    "            ] \n",
    "\n",
    "for numi, i in enumerate(matrix):\n",
    "    if numi % 2 == 0:\n",
    "        for numo, o in enumerate(i):\n",
    "            matrix[numi][numo] = o*2\n",
    "print(matrix)"
   ]
  },
  {
   "cell_type": "code",
   "execution_count": 2,
   "metadata": {},
   "outputs": [
    {
     "name": "stdout",
     "output_type": "stream",
     "text": [
      "['January', 31, 'February', 28, 'March', 31, 'April', 30, 'May', 31, 'June', 30, 'July', 31, 'August', 31, 'September', 30, 'October', 31, 'November', 30, 'December', 31]\n"
     ]
    }
   ],
   "source": [
    "L1 = [31, 28, 31, 30, 31, 30, 31, 31, 30, 31, 30, 31]\n",
    "L2 = ['January', 'February', 'March', 'April', 'May', 'June', 'July', 'August', 'September', 'October', 'November', 'December'] \n",
    "L3 = []\n",
    "for a, i in enumerate(L2):\n",
    "    L3.append(i)\n",
    "    for b, u in enumerate(L1):\n",
    "        if a == b:\n",
    "            L3.append(u)\n",
    "print(L3)\n"
   ]
  },
  {
   "cell_type": "code",
   "execution_count": null,
   "metadata": {},
   "outputs": [],
   "source": [
    "import turtle\n",
    "\n",
    "def draw_dots(n):\n",
    "    screen = turtle.Screen()\n",
    "    screen.title(\"Draw Dots in Circular Shape\")\n",
    "    dot_turtle = turtle.Turtle()\n",
    "    dot_turtle.speed(1)\n",
    "    angle = 360 / n\n",
    "    for i in range(n):\n",
    "        dot_turtle.forward(100)\n",
    "        dot_turtle.dot(20)\n",
    "        dot_turtle.backward(100)\n",
    "        dot_turtle.right(angle)\n",
    "    dot_turtle.hideturtle()\n",
    "    screen.mainloop()\n",
    "\n",
    "draw_dots(7)"
   ]
  },
  {
   "cell_type": "code",
   "execution_count": 160,
   "metadata": {},
   "outputs": [
    {
     "name": "stdout",
     "output_type": "stream",
     "text": [
      "0.4998864639999537\n"
     ]
    }
   ],
   "source": [
    "import random\n",
    "\n",
    "interation = 10000000\n",
    "n=0\n",
    "for i in range(interation):\n",
    "    n += random.randint(1,99) / 100\n",
    "\n",
    "print(n/interation)"
   ]
  },
  {
   "cell_type": "code",
   "execution_count": 208,
   "metadata": {},
   "outputs": [
    {
     "name": "stdout",
     "output_type": "stream",
     "text": [
      "[0.77, 0.18, 0.02, 0.1, 0.3, 0.09, 0.17, 0.8, 0.64, 0.78]\n",
      "0.39\n",
      "0.77 0.18 0.02 0.1 0.3 0.09 0.17 0.8 0.64 0.78 \n"
     ]
    }
   ],
   "source": [
    "import random\n",
    "\n",
    "def fill_list(interation):\n",
    "    list = []\n",
    "    for i in range(interation):\n",
    "        list.append(random.randint(1,99) / 100)\n",
    "    return list\n",
    "\n",
    "def average_list(list):\n",
    "    summ=0\n",
    "    for i in list:\n",
    "        summ += i\n",
    "    return summ / len(list)\n",
    "\n",
    "def print_list(list):\n",
    "    string = \"\"\n",
    "    for i in list:\n",
    "        string += f\"{i} \"\n",
    "    return string\n",
    "\n",
    "list = fill_list(10)\n",
    "print(list)\n",
    "print(round(average_list(list),2))\n",
    "print(print_list(list))"
   ]
  },
  {
   "cell_type": "code",
   "execution_count": 212,
   "metadata": {},
   "outputs": [
    {
     "name": "stdout",
     "output_type": "stream",
     "text": [
      "True\n"
     ]
    }
   ],
   "source": [
    "def isPangram(text):\n",
    "    alphaet = \"abcdefghijklmnopqrstuvwxyz\"\n",
    "    for i in alphaet:\n",
    "        if i in text:\n",
    "            continue\n",
    "        else:\n",
    "            return False\n",
    "    return True\n",
    "\n",
    "text = \"The quick brown fox jumps over the lazy dog\"\n",
    "print(isPangram(text))"
   ]
  },
  {
   "cell_type": "code",
   "execution_count": 214,
   "metadata": {},
   "outputs": [
    {
     "name": "stdout",
     "output_type": "stream",
     "text": [
      "black-green-red-white-yellow\n"
     ]
    }
   ],
   "source": [
    "def sort_words_hyphenated(input_str):\n",
    "    words = input_str.split('-')\n",
    "    words.sort()\n",
    "    sorted_str = '-'.join(words)\n",
    "    return sorted_str\n",
    "\n",
    "print(sort_words_hyphenated(\"green-red-yellow-black-white\"))"
   ]
  },
  {
   "cell_type": "code",
   "execution_count": 226,
   "metadata": {},
   "outputs": [
    {
     "data": {
      "text/plain": [
       "81.12"
      ]
     },
     "execution_count": 226,
     "metadata": {},
     "output_type": "execute_result"
    }
   ],
   "source": [
    "def volBoite(x1, x2=1, x3=1):\n",
    "    if x2 == 1 and x3 == 1:\n",
    "        return x1**3\n",
    "    elif x3 == 1:\n",
    "        return x1**2 * x2\n",
    "    else:\n",
    "        return x1 * x2 * x3\n",
    "    \n",
    "volBoite(5.2, 3)"
   ]
  },
  {
   "cell_type": "code",
   "execution_count": 229,
   "metadata": {},
   "outputs": [
    {
     "name": "stdout",
     "output_type": "stream",
     "text": [
      "applebananacherry\n"
     ]
    }
   ],
   "source": [
    "tuple = (\"apple\", \"banana\", \"cherry\")\n",
    "string = \"\" \n",
    "for i in tuple: \n",
    "    string+=i\n",
    "print(string)"
   ]
  },
  {
   "cell_type": "code",
   "execution_count": 230,
   "metadata": {},
   "outputs": [
    {
     "name": "stdout",
     "output_type": "stream",
     "text": [
      "to ze moon\n"
     ]
    }
   ],
   "source": [
    "tuple = (\"apple\", \"banana\", \"cherry\", \"to ze moon\", \"loris\")\n",
    "print(tuple[3])"
   ]
  },
  {
   "cell_type": "code",
   "execution_count": 232,
   "metadata": {},
   "outputs": [
    {
     "name": "stdout",
     "output_type": "stream",
     "text": [
      "['34', '67', '55', '33', '12', '98']\n"
     ]
    }
   ],
   "source": [
    "S = \"34,67,55,33,12,98\"\n",
    "print(S.split(\",\"))"
   ]
  },
  {
   "cell_type": "code",
   "execution_count": 253,
   "metadata": {},
   "outputs": [
    {
     "name": "stdout",
     "output_type": "stream",
     "text": [
      "{1: 1, 2: 4, 3: 9, 4: 16, 5: 25}\n"
     ]
    }
   ],
   "source": [
    "n = 5\n",
    "json = {}\n",
    "for i in range(1, n+1):\n",
    "    json[i] = i**2\n",
    "print(json)"
   ]
  },
  {
   "cell_type": "code",
   "execution_count": 257,
   "metadata": {},
   "outputs": [
    {
     "name": "stdout",
     "output_type": "stream",
     "text": [
      "{'January': 31, 'February': 28, 'March': 31, 'April': 30, 'May': 31, 'June': 30}\n",
      "{'January': 31, 'February': 28, 'March': 31, 'April': 30, 'May': 31, 'June': 30, 'September': 27, 'October': 31, 'November': 30, 'December': 31}\n"
     ]
    }
   ],
   "source": [
    "semester2 = {\n",
    "    \"January\": 31,\n",
    "    \"February\": 28,\n",
    "    \"March\": 31,\n",
    "    \"April\": 30,\n",
    "    \"May\": 31,\n",
    "    \"June\": 30\n",
    "}\n",
    "\n",
    "print(semester2)\n",
    "\n",
    "semester1 = {\n",
    "    'September': 27,\n",
    "    'October': 31,\n",
    "    'November': 30,\n",
    "    'December': 31,\n",
    "    'January': 31,\n",
    "    'February': 28\n",
    "}\n",
    "\n",
    "SchoolYear = semester2\n",
    "for i in semester1:\n",
    "    SchoolYear[i] = semester1[i]\n",
    "\n",
    "print(SchoolYear)\n"
   ]
  },
  {
   "cell_type": "code",
   "execution_count": 280,
   "metadata": {},
   "outputs": [
    {
     "name": "stdout",
     "output_type": "stream",
     "text": [
      "{'a': 300, 'b': 200, 'd': 400, 'c': 300}\n"
     ]
    }
   ],
   "source": [
    "d1 = {'a': 100, 'b': 200, 'c':300}\n",
    "d2 = {'a': 300, 'b': 200, 'd':400} \n",
    "d3 = {}\n",
    "\n",
    "for i in d1:\n",
    "    for o in d2:\n",
    "        if i == o:\n",
    "            d3[i] = d1[i] + d2[i]\n",
    "        else:\n",
    "            d3[i] = d1[i]\n",
    "            d3[o] = d2[o]\n",
    "print(d3)"
   ]
  },
  {
   "cell_type": "code",
   "execution_count": null,
   "metadata": {},
   "outputs": [],
   "source": [
    "import requests\n",
    "\n",
    "people = {\n",
    "    1 : { 'name': 'John', 'age': '27', 'gender': 'Male'},\n",
    "    2 : { 'name': 'Marie', 'age': '22', 'gender': 'Female'}\n",
    "}\n",
    "\n",
    "for i in range(3, 5):\n",
    "    r = requests.get(\"https://randomuser.me/api/\").json()\n",
    "    name = r[\"results\"][0][\"gender\"]\n",
    "    age = r[\"results\"][0][\"name\"][\"last\"]\n",
    "    gender = r[\"results\"][0][\"dob\"][\"age\"]\n",
    "    people[i] = { 'name': name, 'age': age, 'gender': gender}\n",
    "\n",
    "print(people)"
   ]
  }
 ],
 "metadata": {
  "kernelspec": {
   "display_name": "Python 3",
   "language": "python",
   "name": "python3"
  },
  "language_info": {
   "codemirror_mode": {
    "name": "ipython",
    "version": 3
   },
   "file_extension": ".py",
   "mimetype": "text/x-python",
   "name": "python",
   "nbconvert_exporter": "python",
   "pygments_lexer": "ipython3",
   "version": "3.9.6"
  },
  "orig_nbformat": 4
 },
 "nbformat": 4,
 "nbformat_minor": 2
}
